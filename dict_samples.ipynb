{
 "cells": [
  {
   "cell_type": "code",
   "execution_count": 3,
   "id": "acac0cf0-6995-477d-89af-445873ccb496",
   "metadata": {},
   "outputs": [
    {
     "name": "stdout",
     "output_type": "stream",
     "text": [
      "{1: 'Hello', 2: 'Welcome', 3: 'World'}\n"
     ]
    }
   ],
   "source": [
    "#A dictionary is a collection of unordered, modifiable(mutable) paired (key: value) data type.\n",
    "# Creating a Dictionary\n",
    "# with Integer Keys\n",
    "Dict = {1: 'Hello', 2: 'Welcome', 3: 'World'}\n",
    "print(Dict)\n"
   ]
  },
  {
   "cell_type": "code",
   "execution_count": 4,
   "id": "0553c91f-9be8-4982-8430-0cd3e4a6802b",
   "metadata": {},
   "outputs": [
    {
     "name": "stdout",
     "output_type": "stream",
     "text": [
      "{'Name': 'Arun', 1: [1, 2, 3, 4]}\n"
     ]
    }
   ],
   "source": [
    "\n",
    "# Creating a Dictionary\n",
    "# with Mixed keys\n",
    "Dict = {'Name': 'Arun', 1: [1, 2, 3, 4]}\n",
    "print(Dict)\n"
   ]
  },
  {
   "cell_type": "code",
   "execution_count": 9,
   "id": "ff6369c6-f302-4502-a021-7e4c9fd59a84",
   "metadata": {},
   "outputs": [
    {
     "name": "stdout",
     "output_type": "stream",
     "text": [
      "{'first_name': 'Raja', 'last_name': 'Raji', 'age': 35, 'country': 'India', 'is_marred': True, 'skills': ['Oracle', 'C++', 'JAVA', 'Spring Boot', 'Python'], 'address': {'street': 'Welcome Street', 'zipcode': '673736'}}\n",
      "7\n",
      "Raja\n"
     ]
    }
   ],
   "source": [
    "person = {\n",
    "    'first_name':'Raja',\n",
    "    'last_name':'Raji',\n",
    "    'age':35,\n",
    "    'country':'India',\n",
    "    'is_marred':True,\n",
    "    'skills':['Oracle', 'C++', 'JAVA', 'Spring Boot', 'Python'],\n",
    "    'address':{\n",
    "        'street':'Welcome Street',\n",
    "        'zipcode':'673736'\n",
    "    }\n",
    "    }\n",
    "print(person)\n",
    "#Print the length...\n",
    "print(len(person))\n",
    "#accessing the element based on the key...\n",
    "print(person['first_name'])"
   ]
  },
  {
   "cell_type": "code",
   "execution_count": 11,
   "id": "643369c1-7f63-4afb-850b-a5a7c7ef37ab",
   "metadata": {},
   "outputs": [
    {
     "name": "stdout",
     "output_type": "stream",
     "text": [
      "{'first_name': 'Raja', 'last_name': 'Raji', 'age': 35, 'country': 'India', 'is_marred': True, 'skills': ['Oracle', 'C++', 'JAVA', 'Spring Boot', 'Python'], 'address': {'street': 'Welcome Street', 'zipcode': '673736'}}\n",
      "{'first_name': 'Raja', 'last_name': 'Raji', 'age': 35, 'country': 'India', 'is_marred': True, 'skills': ['Oracle', 'C++', 'JAVA', 'Spring Boot', 'Python', 'MangoDB'], 'address': {'street': 'Welcome Street', 'zipcode': '673736'}, 'city': 'Chennai'}\n"
     ]
    }
   ],
   "source": [
    "person = {\n",
    "    'first_name':'Raja',\n",
    "    'last_name':'Raji',\n",
    "    'age':35,\n",
    "    'country':'India',\n",
    "    'is_marred':True,\n",
    "    'skills':['Oracle', 'C++', 'JAVA', 'Spring Boot', 'Python'],\n",
    "    'address':{\n",
    "        'street':'Welcome Street',\n",
    "        'zipcode':'673736'\n",
    "    }\n",
    "    }\n",
    "print(person)\n",
    "person['city'] = 'Chennai'\n",
    "person['skills'].append('MangoDB')\n",
    "print(person)"
   ]
  },
  {
   "cell_type": "code",
   "execution_count": 19,
   "id": "a347cd2f-476b-4cb0-bb2c-f3f39a8f316b",
   "metadata": {},
   "outputs": [
    {
     "name": "stdout",
     "output_type": "stream",
     "text": [
      "{'first_name': 'Raja', 'last_name': 'Raji', 'age': 35, 'country': 'India', 'is_marred': True, 'skills': ['Oracle', 'C++', 'JAVA', 'Spring Boot', 'Python'], 'address': {'street': 'Welcome Street', 'zipcode': '673736'}}\n",
      "True\n",
      "False\n",
      "False\n",
      "{'first_name': 'Raja', 'last_name': 'Raji', 'country': 'India', 'is_marred': True, 'skills': ['Oracle', 'C++', 'JAVA', 'Spring Boot', 'Python']}\n",
      "dict_keys(['first_name', 'last_name', 'country', 'is_marred', 'skills'])\n"
     ]
    }
   ],
   "source": [
    "#Checking Keys in a Dictionary\n",
    "person = {\n",
    "    'first_name':'Raja',\n",
    "    'last_name':'Raji',\n",
    "    'age':35,\n",
    "    'country':'India',\n",
    "    'is_marred':True,\n",
    "    'skills':['Oracle', 'C++', 'JAVA', 'Spring Boot', 'Python'],\n",
    "    'address':{\n",
    "        'street':'Welcome Street',\n",
    "        'zipcode':'673736'\n",
    "    }\n",
    "    }\n",
    "print(person)\n",
    "print('age' in person) #true\n",
    "print('sex' in person) #false\n",
    "\n",
    "#Removing Key and Value Pairs from a Dictionary\n",
    "#pop(key): removes the item with the specified key name:\n",
    "#popitem(): removes the last item from dict\n",
    "person.pop('age')\n",
    "print('age' in person) #false. Since the age key value is removed from the dict.\n",
    "person.popitem()\n",
    "print(person) # removed Address key from the dict.\n",
    "\n",
    "#Getting Dictionary Keys as a List\n",
    "keys=person.keys()\n",
    "print(keys)\n",
    "\n",
    "#Deleting a Dictionary\n",
    "del person\n",
    "#print(person) #name 'person' is not defined\n",
    "\n"
   ]
  },
  {
   "cell_type": "code",
   "execution_count": 21,
   "id": "aaacdc48-8db5-4c6e-92c9-c7f08b43b3db",
   "metadata": {},
   "outputs": [
    {
     "name": "stdout",
     "output_type": "stream",
     "text": [
      "{0: 0, 1: 1, 2: 4, 3: 9, 4: 16}\n"
     ]
    }
   ],
   "source": [
    "#Python Dictionary Comprehension\n",
    "#Dictionary comprehension is an elegant and concise way to create a new dictionary from an iterable in Python.\n",
    "#Dictionary comprehension consists of an expression pair (key: value) followed by a for statement inside curly braces {}.\n",
    "# Dictionary Comprehension\n",
    "squares = {x: x*x for x in range(5)}\n",
    "print(squares)"
   ]
  },
  {
   "cell_type": "code",
   "execution_count": 22,
   "id": "62bab5da-f343-459f-906b-1a0cd5832235",
   "metadata": {},
   "outputs": [
    {
     "name": "stdout",
     "output_type": "stream",
     "text": [
      "{1: 1, 3: 9, 5: 25, 7: 49, 9: 81}\n"
     ]
    }
   ],
   "source": [
    "#A dictionary comprehension can optionally contain more for or if statements.\n",
    "#An optional if statement can filter out items to form the new dictionary.\n",
    "# Dictionary Comprehension with if conditional\n",
    "odd_squares = {x: x*x for x in range(11) if x % 2 == 1}\n",
    "print(odd_squares)"
   ]
  },
  {
   "cell_type": "code",
   "execution_count": 23,
   "id": "4700c973-ba2e-4fd6-81e4-67bd7587e5e7",
   "metadata": {},
   "outputs": [
    {
     "name": "stdout",
     "output_type": "stream",
     "text": [
      "{'Arun': 28, 'Venkat': 38}\n"
     ]
    }
   ],
   "source": [
    "#example for dictionary comprehension\n",
    "a_dict = {'Arun': 28, 'Venkat': 38, 'Arul': 25, 'Robert': 33}\n",
    "\n",
    "even_dict = {k: v for (k, v) in a_dict.items() if v % 2 == 0}\n",
    "print(even_dict)"
   ]
  },
  {
   "cell_type": "code",
   "execution_count": 24,
   "id": "5e30a6f0-2f5d-4f94-98ab-ceaca0f0ffc6",
   "metadata": {},
   "outputs": [
    {
     "name": "stdout",
     "output_type": "stream",
     "text": [
      "{'Arul': 25, 'Robert': 33}\n"
     ]
    }
   ],
   "source": [
    "#Example for multiple conditions..\n",
    "a_dict = {'Arun': 28, 'Venkat': 38, 'Arul': 25, 'Robert': 33}\n",
    "new_dict = {k: v for (k, v) in a_dict.items() if v % 2 != 0 if v < 40}\n",
    "print(new_dict)"
   ]
  },
  {
   "cell_type": "code",
   "execution_count": 25,
   "id": "496edfd8-83f5-4ced-91fa-6674cecb6c2c",
   "metadata": {},
   "outputs": [
    {
     "name": "stdout",
     "output_type": "stream",
     "text": [
      "{'Arun': 'young', 'Venkat': 'young', 'Arul': 'young', 'Robert': 'young'}\n"
     ]
    }
   ],
   "source": [
    "#example for if_else...\n",
    "a_dict = {'Arun': 28, 'Venkat': 38, 'Arul': 25, 'Robert': 33}\n",
    "\n",
    "new_dict_1 = {k: ('old' if v > 40 else 'young')\n",
    "    for (k, v) in a_dict.items()}\n",
    "print(new_dict_1)"
   ]
  },
  {
   "cell_type": "code",
   "execution_count": null,
   "id": "86256081-cd90-4098-adb4-fcd920077f26",
   "metadata": {},
   "outputs": [],
   "source": []
  }
 ],
 "metadata": {
  "kernelspec": {
   "display_name": "Python 3 (ipykernel)",
   "language": "python",
   "name": "python3"
  },
  "language_info": {
   "codemirror_mode": {
    "name": "ipython",
    "version": 3
   },
   "file_extension": ".py",
   "mimetype": "text/x-python",
   "name": "python",
   "nbconvert_exporter": "python",
   "pygments_lexer": "ipython3",
   "version": "3.9.12"
  }
 },
 "nbformat": 4,
 "nbformat_minor": 5
}
