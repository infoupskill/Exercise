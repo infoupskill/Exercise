{
 "cells": [
  {
   "cell_type": "code",
   "execution_count": 6,
   "id": "33ad5f49-3bb5-4ae6-a389-bd214ff9aad6",
   "metadata": {},
   "outputs": [
    {
     "name": "stdout",
     "output_type": "stream",
     "text": [
      "Search successful.\n"
     ]
    }
   ],
   "source": [
    "#A Regular Expression (RegEx) is a sequence of characters that defines a search pattern. \n",
    "#Python has a module named re to work with RegEx. \n",
    "import re\n",
    "\n",
    "pattern = '^a...s$'\n",
    "test_string = 'ahels'\n",
    "result = re.match(pattern, test_string)\n",
    "\n",
    "if result:\n",
    "  print(\"Search successful.\")\n",
    "else:\n",
    "  print(\"Search unsuccessful.\")"
   ]
  },
  {
   "cell_type": "code",
   "execution_count": 7,
   "id": "d883864f-3d5a-4713-b03d-22fe2334e140",
   "metadata": {},
   "outputs": [
    {
     "name": "stdout",
     "output_type": "stream",
     "text": [
      "['25', '45', '76']\n"
     ]
    }
   ],
   "source": [
    "#example for Reg Exp..\n",
    "#\\d - Matches any decimal digit. Equivalent to [0-9]\n",
    "\n",
    "# Program to extract numbers from a string\n",
    "\n",
    "import re\n",
    "\n",
    "string = 'hello 25 world 45. welcome 76'\n",
    "pattern = '\\d+'\n",
    "\n",
    "result = re.findall(pattern, string) \n",
    "print(result)\n"
   ]
  },
  {
   "cell_type": "code",
   "execution_count": 8,
   "id": "fdfe5fbe-7c82-4df6-a172-f647765e8e22",
   "metadata": {},
   "outputs": [
    {
     "name": "stdout",
     "output_type": "stream",
     "text": [
      "['Five ', ' welcome ', ' eight:', '.']\n"
     ]
    }
   ],
   "source": [
    "#The re.split method splits the string where there is a match and returns a list of strings where the splits have occurred.\n",
    "\n",
    "import re\n",
    "\n",
    "string = 'Five 5 welcome 7 eight:89.'\n",
    "pattern = '\\d+'\n",
    "\n",
    "result = re.split(pattern, string) \n",
    "print(result)\n"
   ]
  },
  {
   "cell_type": "code",
   "execution_count": 15,
   "id": "f18dadfc-c2d0-40bb-81b5-f987eb367f8f",
   "metadata": {},
   "outputs": [
    {
     "name": "stdout",
     "output_type": "stream",
     "text": [
      "12dxdd23334dfdf456\n"
     ]
    }
   ],
   "source": [
    "#The re sub method returns a string where matched occurrences are replaced with the content of replace variable.\n",
    "\n",
    "# Program to remove all whitespaces\n",
    "import re\n",
    "\n",
    "# multiline string\n",
    "string = ' 12 dxdd 23 \\n 3 34d fdf 45 6'\n",
    "\n",
    "# matches all whitespace characters\n",
    "pattern = '\\s+'\n",
    "\n",
    "# empty string\n",
    "replace = ''\n",
    "\n",
    "new_string = re.sub(pattern, replace, string) \n",
    "print(new_string)\n",
    "\n",
    "# Output: abc12de23f456"
   ]
  },
  {
   "cell_type": "code",
   "execution_count": 16,
   "id": "2339c72a-cb98-48fe-a1bc-3447a0411db0",
   "metadata": {},
   "outputs": [
    {
     "name": "stdout",
     "output_type": "stream",
     "text": [
      "pattern found inside the string\n"
     ]
    }
   ],
   "source": [
    "#The re.search() method produces a match with the string.\n",
    "import re\n",
    "\n",
    "string = \"Python is good language\"\n",
    "\n",
    "# check if 'Python' is at the beginning\n",
    "match = re.search('\\APython', string)\n",
    "\n",
    "if match:\n",
    "  print(\"pattern found inside the string\")\n",
    "else:\n",
    "  print(\"pattern not found\")  \n",
    "\n",
    "# Output: pattern found inside the string"
   ]
  },
  {
   "cell_type": "code",
   "execution_count": null,
   "id": "cc4689e6-41b1-48dc-adb9-0dc9adee8a06",
   "metadata": {},
   "outputs": [],
   "source": []
  }
 ],
 "metadata": {
  "kernelspec": {
   "display_name": "Python 3 (ipykernel)",
   "language": "python",
   "name": "python3"
  },
  "language_info": {
   "codemirror_mode": {
    "name": "ipython",
    "version": 3
   },
   "file_extension": ".py",
   "mimetype": "text/x-python",
   "name": "python",
   "nbconvert_exporter": "python",
   "pygments_lexer": "ipython3",
   "version": "3.9.12"
  }
 },
 "nbformat": 4,
 "nbformat_minor": 5
}
