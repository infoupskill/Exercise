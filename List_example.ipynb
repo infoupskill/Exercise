{
 "cells": [
  {
   "cell_type": "code",
   "execution_count": null,
   "id": "2c91dd64-3f1b-4488-8afc-94f7516bcec4",
   "metadata": {},
   "outputs": [],
   "source": [
    "#List: is a collection which is ordered and changeable(modifiable). Allows duplicate members.\n",
    "# possible to append in the existing list\n",
    "fruits = ['banana', 'orange', 'mango', 'lemon','apple']                     # list of fruits\n",
    "countries = ['India', 'USA', 'UK', 'Sweden', 'Qatar']\n",
    "\n",
    "# Print the lists and its length\n",
    "print('Fruits:', fruits)\n",
    "print('Number of fruits:', len(fruits))\n",
    "\n",
    "print('Countries:', countries)\n",
    "print('Number of countries:', len(countries))"
   ]
  }
 ],
 "metadata": {
  "kernelspec": {
   "display_name": "Python 3 (ipykernel)",
   "language": "python",
   "name": "python3"
  },
  "language_info": {
   "codemirror_mode": {
    "name": "ipython",
    "version": 3
   },
   "file_extension": ".py",
   "mimetype": "text/x-python",
   "name": "python",
   "nbconvert_exporter": "python",
   "pygments_lexer": "ipython3",
   "version": "3.9.12"
  }
 },
 "nbformat": 4,
 "nbformat_minor": 5
}
