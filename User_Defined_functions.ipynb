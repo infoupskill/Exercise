{
 "cells": [
  {
   "cell_type": "code",
   "execution_count": 1,
   "id": "1855ca5a-3a41-4c3f-b016-6c4d565458fb",
   "metadata": {},
   "outputs": [
    {
     "name": "stdout",
     "output_type": "stream",
     "text": [
      "Example for Function without any args,,,\n",
      "30\n",
      "None\n"
     ]
    }
   ],
   "source": [
    "#user definfed functions...\n",
    "#define the function...(function wihtout arg)\n",
    "def add():\n",
    "    print(10+20)\n",
    "\n",
    "print('Example for Function without any args,,,')\n",
    "print(add())"
   ]
  },
  {
   "cell_type": "code",
   "execution_count": 3,
   "id": "c45725ec-f328-4bf0-b918-398801853745",
   "metadata": {},
   "outputs": [
    {
     "name": "stdout",
     "output_type": "stream",
     "text": [
      "20\n"
     ]
    }
   ],
   "source": [
    "#find the largest of Three numbers...and passing arg and return values...\n",
    "def largest_of_two( x, y ):\n",
    "    if x > y:\n",
    "        return x\n",
    "    return y\n",
    "def largest_of_three( x, y, z ):\n",
    "    return largest_of_two( x, largest_of_two( y, z ) )\n",
    "print(largest_of_three(20, 10, 15))\n"
   ]
  },
  {
   "cell_type": "code",
   "execution_count": 5,
   "id": "b66e9a56-40a7-489e-bc80-5673c0ebad9c",
   "metadata": {},
   "outputs": [
    {
     "name": "stdout",
     "output_type": "stream",
     "text": [
      "96\n"
     ]
    }
   ],
   "source": [
    "#passing arg and return total\n",
    "def sum(numbers):\n",
    "    total = 0\n",
    "    for x in numbers:\n",
    "        total += x\n",
    "    return total\n",
    "print(sum((4, 5, 10, 12, 20,45)))\n"
   ]
  },
  {
   "cell_type": "code",
   "execution_count": 6,
   "id": "6fb74b1f-f13e-423c-9cc3-db0b8b6b22bb",
   "metadata": {},
   "outputs": [
    {
     "name": "stdout",
     "output_type": "stream",
     "text": [
      "...123 dlroW olleH\n"
     ]
    }
   ],
   "source": [
    "#print the reverse string...with arg and return values;\n",
    "def string_reverse(str1):\n",
    "    rstr1 = ''\n",
    "    index = len(str1)\n",
    "    while index > 0:\n",
    "        rstr1 += str1[ index - 1 ]\n",
    "        index = index - 1\n",
    "    return rstr1\n",
    "print(string_reverse('Hello World 321...'))\n",
    "\n"
   ]
  },
  {
   "cell_type": "code",
   "execution_count": 7,
   "id": "5ff29059-46a4-4456-a40a-06f3dd96251c",
   "metadata": {},
   "outputs": [
    {
     "name": "stdin",
     "output_type": "stream",
     "text": [
      "Input a number to compute the factiorial :  10\n"
     ]
    },
    {
     "name": "stdout",
     "output_type": "stream",
     "text": [
      "3628800\n"
     ]
    }
   ],
   "source": [
    "#example of recursive function... with arg and return values..\n",
    "def factorial(n):\n",
    "    if n == 0:\n",
    "        return 1\n",
    "    else:\n",
    "        return n * factorial(n-1)\n",
    "n=int(input(\"Input a number to compute the factiorial : \"))\n",
    "print(factorial(n))\n"
   ]
  },
  {
   "cell_type": "code",
   "execution_count": 8,
   "id": "8a1f9e14-99f7-44de-8b6a-9b4947d83a5b",
   "metadata": {},
   "outputs": [
    {
     "name": "stdout",
     "output_type": "stream",
     "text": [
      "[2, 4, 6, 8]\n"
     ]
    }
   ],
   "source": [
    "#print only even numbers...\n",
    "def is_even_num(l):\n",
    "    enum = []\n",
    "    for n in l:\n",
    "        if n % 2 == 0:\n",
    "            enum.append(n)\n",
    "    return enum\n",
    "print(is_even_num([1, 2, 3, 4, 5, 6, 7, 8, 9]))\n"
   ]
  },
  {
   "cell_type": "code",
   "execution_count": 10,
   "id": "36837e58-c151-43e5-a52f-97f2fd37d924",
   "metadata": {},
   "outputs": [
    {
     "name": "stdout",
     "output_type": "stream",
     "text": [
      "Original String :  Hello World\n",
      "No. of Upper case characters :  2\n",
      "No. of Lower case Characters :  8\n"
     ]
    }
   ],
   "source": [
    "#count the number of upper to lower case... \n",
    "def string_test(s):\n",
    "    d={\"UPPER_CASE\":0, \"LOWER_CASE\":0}\n",
    "    for c in s:\n",
    "        if c.isupper():\n",
    "           d[\"UPPER_CASE\"]+=1\n",
    "        elif c.islower():\n",
    "           d[\"LOWER_CASE\"]+=1\n",
    "        else:\n",
    "           pass\n",
    "    print (\"Original String : \", s)\n",
    "    print (\"No. of Upper case characters : \", d[\"UPPER_CASE\"])\n",
    "    print (\"No. of Lower case Characters : \", d[\"LOWER_CASE\"])\n",
    "string_test('Hello World')"
   ]
  },
  {
   "cell_type": "code",
   "execution_count": 11,
   "id": "0cb45643-dc01-42ec-a654-6801a8f3617f",
   "metadata": {},
   "outputs": [
    {
     "name": "stdout",
     "output_type": "stream",
     "text": [
      "(50, 30)\n"
     ]
    }
   ],
   "source": [
    "#function with args. and return values..\n",
    "\n",
    "def calculation(a, b):\n",
    "    add = a + b\n",
    "    sub = a - b\n",
    "    # return multiple values separated by comma\n",
    "    return add, sub\n",
    "\n",
    "# get result in tuple format\n",
    "res = calculation(40, 10)\n",
    "print(res)"
   ]
  },
  {
   "cell_type": "code",
   "execution_count": 12,
   "id": "c6c836dd-f2c8-4b43-9292-ffc30b53866c",
   "metadata": {},
   "outputs": [
    {
     "name": "stdout",
     "output_type": "stream",
     "text": [
      "Henery, Welcome to Python Exersices..\n",
      "Robert, Welcome to Python Exersices..\n"
     ]
    }
   ],
   "source": [
    "#function with default values...\n",
    "def greetings (name = 'Henery'):\n",
    "    message = name + ', Welcome to Python Exersices..'\n",
    "    return message\n",
    "print(greetings()) #without sending values...\n",
    "print(greetings('Robert')) #with arg..."
   ]
  },
  {
   "cell_type": "code",
   "execution_count": null,
   "id": "7b8bf675-3556-4105-966f-11d07794a6a5",
   "metadata": {},
   "outputs": [],
   "source": []
  }
 ],
 "metadata": {
  "kernelspec": {
   "display_name": "Python 3 (ipykernel)",
   "language": "python",
   "name": "python3"
  },
  "language_info": {
   "codemirror_mode": {
    "name": "ipython",
    "version": 3
   },
   "file_extension": ".py",
   "mimetype": "text/x-python",
   "name": "python",
   "nbconvert_exporter": "python",
   "pygments_lexer": "ipython3",
   "version": "3.9.12"
  }
 },
 "nbformat": 4,
 "nbformat_minor": 5
}
