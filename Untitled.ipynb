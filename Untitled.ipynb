{
 "cells": [
  {
   "cell_type": "code",
   "execution_count": 4,
   "id": "d03fd05b-4d2e-4a5e-a445-23f30d32a5bc",
   "metadata": {},
   "outputs": [
    {
     "name": "stdout",
     "output_type": "stream",
     "text": [
      "12\n"
     ]
    }
   ],
   "source": [
    "import calc as c\n",
    "print(c.add(10,2))"
   ]
  },
  {
   "cell_type": "code",
   "execution_count": 5,
   "id": "12fb9f97-0f38-4a0b-a622-9aaee3541299",
   "metadata": {},
   "outputs": [
    {
     "name": "stdout",
     "output_type": "stream",
     "text": [
      "10\n",
      "9\n",
      "8\n",
      "7\n",
      "6\n",
      "5\n",
      "4\n",
      "3\n",
      "2\n",
      "1\n"
     ]
    }
   ],
   "source": [
    "# Python program to illustrate\n",
    "# while loop\n",
    "# print 10 to 1\n",
    "count = 10\n",
    "while (count >= 1):\t\n",
    "\tprint (count)\n",
    "\tcount = count-1"
   ]
  },
  {
   "cell_type": "code",
   "execution_count": 6,
   "id": "723b8051-61ca-45a3-a82e-5627ceb4cf71",
   "metadata": {},
   "outputs": [
    {
     "name": "stdout",
     "output_type": "stream",
     "text": [
      "Enter the N number of times\n"
     ]
    },
    {
     "name": "stdin",
     "output_type": "stream",
     "text": [
      " 5\n"
     ]
    },
    {
     "name": "stdout",
     "output_type": "stream",
     "text": [
      "Hello World\n",
      "Hello World\n",
      "Hello World\n",
      "Hello World\n",
      "Hello World\n"
     ]
    }
   ],
   "source": [
    "# Python program to illustrate\n",
    "# while loop\n",
    "# print hello world n number times\n",
    "print('Enter the N number of times')\n",
    "n=int(input())\n",
    "count = 0\n",
    "while (count < n):\t\n",
    "\tprint ('Hello World')\n",
    "\tcount = count+1"
   ]
  },
  {
   "cell_type": "code",
   "execution_count": 7,
   "id": "54a83175-624b-4468-80a3-01d0e22bdb18",
   "metadata": {},
   "outputs": [
    {
     "name": "stdout",
     "output_type": "stream",
     "text": [
      "Enter the N number of times\n"
     ]
    },
    {
     "name": "stdin",
     "output_type": "stream",
     "text": [
      " 5\n"
     ]
    },
    {
     "name": "stdout",
     "output_type": "stream",
     "text": [
      "Enter the String to be Print\n"
     ]
    },
    {
     "name": "stdin",
     "output_type": "stream",
     "text": [
      " hello\n"
     ]
    },
    {
     "name": "stdout",
     "output_type": "stream",
     "text": [
      "hello\n",
      "hello\n",
      "hello\n",
      "hello\n"
     ]
    }
   ],
   "source": [
    "# Python program to illustrate\n",
    "# while loop\n",
    "# print entered string n number times\n",
    "print('Enter the N number of times')\n",
    "n=int(input())\n",
    "print('Enter the String to be Print')\n",
    "str=input()\n",
    "count = 1\n",
    "while (count < n):\t\n",
    "\tprint (str)\n",
    "\tcount = count+1"
   ]
  },
  {
   "cell_type": "code",
   "execution_count": 8,
   "id": "cbb0b2ce-6296-426d-ac15-bf25a3b0606b",
   "metadata": {},
   "outputs": [
    {
     "name": "stdout",
     "output_type": "stream",
     "text": [
      "Enter the end vlue for Fib Series...\n"
     ]
    },
    {
     "name": "stdin",
     "output_type": "stream",
     "text": [
      " 5\n"
     ]
    },
    {
     "name": "stdout",
     "output_type": "stream",
     "text": [
      "1\n",
      "2\n",
      "3\n",
      "5\n",
      "8\n",
      "13\n",
      "21\n"
     ]
    }
   ],
   "source": [
    "#fib series\n",
    "print('Enter the end vlue for Fib Series...')\n",
    "n=int(input())\n",
    "count=0\n",
    "x=1\n",
    "y=2\n",
    "print(x)\n",
    "print(y)\n",
    "while(count<n):\n",
    "    z=x+y\n",
    "    print(z)\n",
    "    x=y\n",
    "    y=z\n",
    "    count=count+1"
   ]
  },
  {
   "cell_type": "code",
   "execution_count": 9,
   "id": "5e690b57-8fac-4dd3-989e-8bfac13cd557",
   "metadata": {},
   "outputs": [
    {
     "name": "stdout",
     "output_type": "stream",
     "text": [
      "Enter the String to be printed chrs....\n"
     ]
    },
    {
     "name": "stdin",
     "output_type": "stream",
     "text": [
      " hello\n"
     ]
    },
    {
     "name": "stdout",
     "output_type": "stream",
     "text": [
      "h\n",
      "e\n",
      "l\n",
      "l\n",
      "o\n"
     ]
    }
   ],
   "source": [
    "print('Enter the String to be printed chrs....')\n",
    "s=input()\n",
    "l=len(s)\n",
    "count=0\n",
    "while(count<l):\n",
    "    print(s[count:count+1]) \n",
    "    count=count+1"
   ]
  },
  {
   "cell_type": "code",
   "execution_count": 10,
   "id": "7d369999-5c9b-4238-8257-d4b4b5b398c4",
   "metadata": {},
   "outputs": [
    {
     "name": "stdout",
     "output_type": "stream",
     "text": [
      "Enter the String to be printed in reverse chrs....\n"
     ]
    },
    {
     "name": "stdin",
     "output_type": "stream",
     "text": [
      " hello\n"
     ]
    },
    {
     "name": "stdout",
     "output_type": "stream",
     "text": [
      "o\n",
      "l\n",
      "l\n",
      "e\n",
      "h\n"
     ]
    }
   ],
   "source": [
    "print('Enter the String to be printed in reverse chrs....')\n",
    "s=input()\n",
    "l=len(s)\n",
    "count=l-1\n",
    "while(count>=0):\n",
    "    print(s[count:count+1])\n",
    "    count=count-1"
   ]
  },
  {
   "cell_type": "code",
   "execution_count": 11,
   "id": "c013b240-0062-412f-9289-ab73cff855c9",
   "metadata": {},
   "outputs": [
    {
     "name": "stdin",
     "output_type": "stream",
     "text": [
      " hello\n"
     ]
    },
    {
     "name": "stdout",
     "output_type": "stream",
     "text": [
      "h\n",
      "e\n",
      "l\n",
      "l\n",
      "o\n"
     ]
    },
    {
     "name": "stdin",
     "output_type": "stream",
     "text": [
      " world\n"
     ]
    },
    {
     "name": "stdout",
     "output_type": "stream",
     "text": [
      "w\n",
      "o\n",
      "r\n",
      "l\n",
      "d\n"
     ]
    },
    {
     "name": "stdin",
     "output_type": "stream",
     "text": [
      " yamaha\n"
     ]
    },
    {
     "name": "stdout",
     "output_type": "stream",
     "text": [
      "y\n",
      "a\n",
      "m\n",
      "a\n",
      "h\n",
      "a\n"
     ]
    },
    {
     "name": "stdin",
     "output_type": "stream",
     "text": [
      " exit\n"
     ]
    },
    {
     "name": "stdout",
     "output_type": "stream",
     "text": [
      "Bye... Program is exit...\n"
     ]
    }
   ],
   "source": [
    "#Example for nested loop....exit the loop after entered the exit...\n",
    "while(1<2):\n",
    "    s=input()\n",
    "    count=0\n",
    "    while(count<len(s) and s!='exit'):\n",
    "        print(s[count:count+1])\n",
    "        count=count+1\n",
    "    if(s=='exit'):\n",
    "        print('Bye... Program is exit...')\n",
    "        break;"
   ]
  },
  {
   "cell_type": "code",
   "execution_count": 12,
   "id": "18b5739c-d05c-454d-af95-18479f8defda",
   "metadata": {},
   "outputs": [
    {
     "name": "stdout",
     "output_type": "stream",
     "text": [
      "[93, 59, 29, 55, 28, 94, 49, 54, 77, 27, 94, 19, 78, 25, 74, 82, 66, 35, 60, 50, 18, 18, 10, 34, 94, 14, 56, 58, 97, 82, 14, 57, 68, 41, 26, 13, 10, 27, 53, 69, 11, 69, 55, 80, 12, 72, 74, 49, 40, 49]\n",
      "First Class Count= 10\n",
      "Second Class Count= 23\n",
      "Fail Count= 17\n"
     ]
    }
   ],
   "source": [
    "#generate random numbers between 10 to 100 for 50\n",
    "import random\n",
    "i=0\n",
    "stumarks=[]\n",
    "while(i<50):\n",
    "    marks = random.randint(10,100)\n",
    "    stumarks.append(marks)\n",
    "    i=i+1\n",
    "print(stumarks)\n",
    "\n",
    "#find the first/second class & fail count\n",
    "i=0\n",
    "fail_count=0\n",
    "first_class_cnt=0\n",
    "second_class_cnt=0\n",
    "\n",
    "while(i<50):\n",
    "    if(stumarks[i]>=75):\n",
    "        first_class_cnt=first_class_cnt+1\n",
    "    if(stumarks[i]>=35 and stumarks[i]<75):\n",
    "        second_class_cnt=second_class_cnt+1\n",
    "    if(stumarks[i]<35):\n",
    "        fail_count=fail_count+1\n",
    "    i=i+1\n",
    "   \n",
    "print('First Class Count=',first_class_cnt)  \n",
    "print('Second Class Count=',second_class_cnt)\n",
    "print('Fail Count=',fail_count)"
   ]
  },
  {
   "cell_type": "code",
   "execution_count": 14,
   "id": "381f81e8-5b1b-4146-9297-f4ca93386894",
   "metadata": {},
   "outputs": [
    {
     "name": "stdout",
     "output_type": "stream",
     "text": [
      "5\n",
      "o\n",
      "4\n",
      "ol\n",
      "3\n",
      "oll\n",
      "2\n",
      "olle\n",
      "1\n",
      "olleH\n",
      "0\n",
      "olleH\n"
     ]
    }
   ],
   "source": [
    "#print the reverse string...with arg and return values;\n",
    "def string_reverse(str1):\n",
    "    rstr1 = ''\n",
    "    index = len(str1)\n",
    "    print(index)\n",
    "    while index > 0: \n",
    "        rstr1 += str1[ index - 1 ]\n",
    "        print(rstr1)\n",
    "        index = index - 1\n",
    "        print(index)\n",
    "    return rstr1\n",
    "print(string_reverse('Hello'))\n"
   ]
  },
  {
   "cell_type": "code",
   "execution_count": 15,
   "id": "98d7f3cd-3624-44b3-b85d-95baecb70134",
   "metadata": {},
   "outputs": [
    {
     "name": "stdout",
     "output_type": "stream",
     "text": [
      "Henery, Welcome to Python Exersices..\n",
      "Robert, Welcome to Python Exersices..\n"
     ]
    }
   ],
   "source": [
    "#function with default values...\n",
    "def greetings (name = 'Henery'):\n",
    "    message = name + ', Welcome to Python Exersices..'\n",
    "    return message\n",
    "print(greetings()) #without sending values...\n",
    "print(greetings('Robert')) #with arg..."
   ]
  },
  {
   "cell_type": "code",
   "execution_count": 18,
   "id": "6cdcb18a-1b01-4143-a04a-04dfa37f0ff2",
   "metadata": {},
   "outputs": [
    {
     "name": "stdout",
     "output_type": "stream",
     "text": [
      "218\n"
     ]
    }
   ],
   "source": [
    "# number of args...\n",
    "def sum_all_nums(*nums):\n",
    "    total = 0\n",
    "    for num in nums:\n",
    "        total += num \n",
    "    return total\n",
    "print(sum_all_nums(10, 25,60,67,56))"
   ]
  },
  {
   "cell_type": "code",
   "execution_count": 19,
   "id": "cab29041-a89c-45a9-8308-1907fad2d69d",
   "metadata": {},
   "outputs": [
    {
     "name": "stdin",
     "output_type": "stream",
     "text": [
      "Enter Value:  hello world\n"
     ]
    },
    {
     "name": "stdout",
     "output_type": "stream",
     "text": [
      "Count of vowels is  3\n",
      "Count of consonant is  8\n"
     ]
    }
   ],
   "source": [
    "#find the vowels and consonant in a word\n",
    "def count(val):\n",
    "    vov = 0\n",
    "    con = 0\n",
    "    for i in range(len(val)):\n",
    "        if val[i] in ['a','e','i','o','u']:\n",
    "            vov = vov+1\n",
    "        else:\n",
    "            con = con + 1\n",
    "\n",
    "    print(\"Count of vowels is \",vov)\n",
    "    print(\"Count of consonant is \",con)\n",
    "\n",
    "x = input(\"Enter Value: \") \n",
    "count(x)"
   ]
  },
  {
   "cell_type": "code",
   "execution_count": 26,
   "id": "c1a9143a-5905-4aa4-aa39-83e6c979d140",
   "metadata": {},
   "outputs": [
    {
     "name": "stdout",
     "output_type": "stream",
     "text": [
      "5\n"
     ]
    }
   ],
   "source": [
    "import random\n",
    "print(random.randint(1,10))"
   ]
  },
  {
   "cell_type": "code",
   "execution_count": 28,
   "id": "12701b81-4b07-426e-93bd-077c832a2954",
   "metadata": {},
   "outputs": [
    {
     "name": "stdout",
     "output_type": "stream",
     "text": [
      "30\n",
      "10\n"
     ]
    }
   ],
   "source": [
    "import calc\n",
    "print(calc.add(10,20))\n",
    "print(calc.subtract(20,10))"
   ]
  },
  {
   "cell_type": "code",
   "execution_count": null,
   "id": "ee02b8d8-4e78-48f6-87ec-552c20101677",
   "metadata": {},
   "outputs": [],
   "source": []
  }
 ],
 "metadata": {
  "kernelspec": {
   "display_name": "Python 3 (ipykernel)",
   "language": "python",
   "name": "python3"
  },
  "language_info": {
   "codemirror_mode": {
    "name": "ipython",
    "version": 3
   },
   "file_extension": ".py",
   "mimetype": "text/x-python",
   "name": "python",
   "nbconvert_exporter": "python",
   "pygments_lexer": "ipython3",
   "version": "3.9.12"
  }
 },
 "nbformat": 4,
 "nbformat_minor": 5
}
